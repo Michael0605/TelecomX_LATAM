{
  "nbformat": 4,
  "nbformat_minor": 0,
  "metadata": {
    "colab": {
      "provenance": [],
      "authorship_tag": "ABX9TyNGsfBsS1PYwJ0XT3hB9vSQ",
      "include_colab_link": true
    },
    "kernelspec": {
      "name": "python3",
      "display_name": "Python 3"
    },
    "language_info": {
      "name": "python"
    }
  },
  "cells": [
    {
      "cell_type": "markdown",
      "metadata": {
        "id": "view-in-github",
        "colab_type": "text"
      },
      "source": [
        "<a href=\"https://colab.research.google.com/github/Michael0605/TelecomX_LATAM/blob/main/Copia_de_TelecomX_LATAM.ipynb\" target=\"_parent\"><img src=\"https://colab.research.google.com/assets/colab-badge.svg\" alt=\"Open In Colab\"/></a>"
      ]
    },
    {
      "cell_type": "markdown",
      "source": [
        "*Cargar los datos directamente desde la API utilizando Python.\n",
        "*Convertir los datos a un DataFrame de Pandas para facilitar su manipulación."
      ],
      "metadata": {
        "id": "WahqRVSUsrad"
      }
    },
    {
      "cell_type": "code",
      "source": [
        "import requests\n",
        "import pandas as pd\n",
        "\n",
        "# 1. Cargar datos desde la API de GitHub\n",
        "url = \"https://raw.githubusercontent.com/ingridcristh/challenge2-data-science-LATAM/main/TelecomX_Data.json\"\n",
        "response = requests.get(url)\n",
        "\n",
        "if response.status_code == 200:\n",
        "    # 2. Convertir JSON a DataFrame inicial\n",
        "    data = response.json()\n",
        "    df_flat_raw = pd.DataFrame(data)\n",
        "\n",
        "    # 3. Normalizar columnas anidadas\n",
        "    df_flat_customer = pd.json_normalize(df_flat_raw['customer'])\n",
        "    df_flat_phone = pd.json_normalize(df_flat_raw['phone'])\n",
        "    df_flat_internet = pd.json_normalize(df_flat_raw['internet'])\n",
        "    df_flat_account = pd.json_normalize(df_flat_raw['account'])\n",
        "\n",
        "    # 4. Combinar todas las columnas en un DataFrame plano\n",
        "    df_flat = pd.concat([\n",
        "        df_flat_raw[['customerID', 'Churn']],  # Columnas no anidadas\n",
        "        df_flat_customer,\n",
        "        df_flat_phone,\n",
        "        df_flat_internet,\n",
        "        df_flat_account\n",
        "    ], axis=1)\n",
        "\n",
        "    # 5. Mostrar el resultado\n",
        "    print(\"DataFrame plano listo para análisis:\")\n",
        "    print(df_flat.head())\n",
        "\n",
        "    # Opcional: Guardar como CSV\n",
        "    df_flat.to_csv('telecomx_clientes_flat.csv', index=False)\n",
        "else:\n",
        "    print(f\"Error al cargar datos. Código: {response.status_code}\")"
      ],
      "metadata": {
        "colab": {
          "base_uri": "https://localhost:8080/"
        },
        "id": "0oP_OrCdtsAB",
        "outputId": "7a80c853-29c7-46ed-9e48-e9aed686bd07"
      },
      "execution_count": 75,
      "outputs": [
        {
          "output_type": "stream",
          "name": "stdout",
          "text": [
            "DataFrame plano listo para análisis:\n",
            "   customerID Churn  gender  SeniorCitizen Partner Dependents  tenure  \\\n",
            "0  0002-ORFBO    No  Female              0     Yes        Yes       9   \n",
            "1  0003-MKNFE    No    Male              0      No         No       9   \n",
            "2  0004-TLHLJ   Yes    Male              0      No         No       4   \n",
            "3  0011-IGKFF   Yes    Male              1     Yes         No      13   \n",
            "4  0013-EXCHZ   Yes  Female              1     Yes         No       3   \n",
            "\n",
            "  PhoneService MultipleLines InternetService  ... OnlineBackup  \\\n",
            "0          Yes            No             DSL  ...          Yes   \n",
            "1          Yes           Yes             DSL  ...           No   \n",
            "2          Yes            No     Fiber optic  ...           No   \n",
            "3          Yes            No     Fiber optic  ...          Yes   \n",
            "4          Yes            No     Fiber optic  ...           No   \n",
            "\n",
            "  DeviceProtection TechSupport StreamingTV StreamingMovies        Contract  \\\n",
            "0               No         Yes         Yes              No        One year   \n",
            "1               No          No          No             Yes  Month-to-month   \n",
            "2              Yes          No          No              No  Month-to-month   \n",
            "3              Yes          No         Yes             Yes  Month-to-month   \n",
            "4               No         Yes         Yes              No  Month-to-month   \n",
            "\n",
            "  PaperlessBilling     PaymentMethod Charges.Monthly  Charges.Total  \n",
            "0              Yes      Mailed check            65.6          593.3  \n",
            "1               No      Mailed check            59.9          542.4  \n",
            "2              Yes  Electronic check            73.9         280.85  \n",
            "3              Yes  Electronic check            98.0        1237.85  \n",
            "4              Yes      Mailed check            83.9          267.4  \n",
            "\n",
            "[5 rows x 21 columns]\n"
          ]
        }
      ]
    },
    {
      "cell_type": "markdown",
      "source": [],
      "metadata": {
        "id": "7DeNm2QqyAA8"
      }
    },
    {
      "cell_type": "code",
      "source": [
        "df_flat.info()  # Revisar si 'SeniorCitizen' es int y 'Charges.Total' es float\n"
      ],
      "metadata": {
        "colab": {
          "base_uri": "https://localhost:8080/"
        },
        "id": "GW_SDFssx_a9",
        "outputId": "b7f580f8-d759-4373-d50c-5f537f084ebc"
      },
      "execution_count": 76,
      "outputs": [
        {
          "output_type": "stream",
          "name": "stdout",
          "text": [
            "<class 'pandas.core.frame.DataFrame'>\n",
            "RangeIndex: 7267 entries, 0 to 7266\n",
            "Data columns (total 21 columns):\n",
            " #   Column            Non-Null Count  Dtype  \n",
            "---  ------            --------------  -----  \n",
            " 0   customerID        7267 non-null   object \n",
            " 1   Churn             7267 non-null   object \n",
            " 2   gender            7267 non-null   object \n",
            " 3   SeniorCitizen     7267 non-null   int64  \n",
            " 4   Partner           7267 non-null   object \n",
            " 5   Dependents        7267 non-null   object \n",
            " 6   tenure            7267 non-null   int64  \n",
            " 7   PhoneService      7267 non-null   object \n",
            " 8   MultipleLines     7267 non-null   object \n",
            " 9   InternetService   7267 non-null   object \n",
            " 10  OnlineSecurity    7267 non-null   object \n",
            " 11  OnlineBackup      7267 non-null   object \n",
            " 12  DeviceProtection  7267 non-null   object \n",
            " 13  TechSupport       7267 non-null   object \n",
            " 14  StreamingTV       7267 non-null   object \n",
            " 15  StreamingMovies   7267 non-null   object \n",
            " 16  Contract          7267 non-null   object \n",
            " 17  PaperlessBilling  7267 non-null   object \n",
            " 18  PaymentMethod     7267 non-null   object \n",
            " 19  Charges.Monthly   7267 non-null   float64\n",
            " 20  Charges.Total     7267 non-null   object \n",
            "dtypes: float64(1), int64(2), object(18)\n",
            "memory usage: 1.2+ MB\n"
          ]
        }
      ]
    },
    {
      "cell_type": "markdown",
      "source": [
        "Corregir tipos de datos\n"
      ],
      "metadata": {
        "id": "tBUUh70ANg_n"
      }
    },
    {
      "cell_type": "markdown",
      "source": [
        "Explorar datos nulos."
      ],
      "metadata": {
        "id": "xGO4VmCxNuD4"
      }
    },
    {
      "cell_type": "code",
      "source": [
        "df_flat.isnull().sum()"
      ],
      "metadata": {
        "colab": {
          "base_uri": "https://localhost:8080/",
          "height": 742
        },
        "id": "282G1ckONugK",
        "outputId": "62714e8c-fde6-42d4-ccfd-859f9df0ab98"
      },
      "execution_count": 77,
      "outputs": [
        {
          "output_type": "execute_result",
          "data": {
            "text/plain": [
              "customerID          0\n",
              "Churn               0\n",
              "gender              0\n",
              "SeniorCitizen       0\n",
              "Partner             0\n",
              "Dependents          0\n",
              "tenure              0\n",
              "PhoneService        0\n",
              "MultipleLines       0\n",
              "InternetService     0\n",
              "OnlineSecurity      0\n",
              "OnlineBackup        0\n",
              "DeviceProtection    0\n",
              "TechSupport         0\n",
              "StreamingTV         0\n",
              "StreamingMovies     0\n",
              "Contract            0\n",
              "PaperlessBilling    0\n",
              "PaymentMethod       0\n",
              "Charges.Monthly     0\n",
              "Charges.Total       0\n",
              "dtype: int64"
            ],
            "text/html": [
              "<div>\n",
              "<style scoped>\n",
              "    .dataframe tbody tr th:only-of-type {\n",
              "        vertical-align: middle;\n",
              "    }\n",
              "\n",
              "    .dataframe tbody tr th {\n",
              "        vertical-align: top;\n",
              "    }\n",
              "\n",
              "    .dataframe thead th {\n",
              "        text-align: right;\n",
              "    }\n",
              "</style>\n",
              "<table border=\"1\" class=\"dataframe\">\n",
              "  <thead>\n",
              "    <tr style=\"text-align: right;\">\n",
              "      <th></th>\n",
              "      <th>0</th>\n",
              "    </tr>\n",
              "  </thead>\n",
              "  <tbody>\n",
              "    <tr>\n",
              "      <th>customerID</th>\n",
              "      <td>0</td>\n",
              "    </tr>\n",
              "    <tr>\n",
              "      <th>Churn</th>\n",
              "      <td>0</td>\n",
              "    </tr>\n",
              "    <tr>\n",
              "      <th>gender</th>\n",
              "      <td>0</td>\n",
              "    </tr>\n",
              "    <tr>\n",
              "      <th>SeniorCitizen</th>\n",
              "      <td>0</td>\n",
              "    </tr>\n",
              "    <tr>\n",
              "      <th>Partner</th>\n",
              "      <td>0</td>\n",
              "    </tr>\n",
              "    <tr>\n",
              "      <th>Dependents</th>\n",
              "      <td>0</td>\n",
              "    </tr>\n",
              "    <tr>\n",
              "      <th>tenure</th>\n",
              "      <td>0</td>\n",
              "    </tr>\n",
              "    <tr>\n",
              "      <th>PhoneService</th>\n",
              "      <td>0</td>\n",
              "    </tr>\n",
              "    <tr>\n",
              "      <th>MultipleLines</th>\n",
              "      <td>0</td>\n",
              "    </tr>\n",
              "    <tr>\n",
              "      <th>InternetService</th>\n",
              "      <td>0</td>\n",
              "    </tr>\n",
              "    <tr>\n",
              "      <th>OnlineSecurity</th>\n",
              "      <td>0</td>\n",
              "    </tr>\n",
              "    <tr>\n",
              "      <th>OnlineBackup</th>\n",
              "      <td>0</td>\n",
              "    </tr>\n",
              "    <tr>\n",
              "      <th>DeviceProtection</th>\n",
              "      <td>0</td>\n",
              "    </tr>\n",
              "    <tr>\n",
              "      <th>TechSupport</th>\n",
              "      <td>0</td>\n",
              "    </tr>\n",
              "    <tr>\n",
              "      <th>StreamingTV</th>\n",
              "      <td>0</td>\n",
              "    </tr>\n",
              "    <tr>\n",
              "      <th>StreamingMovies</th>\n",
              "      <td>0</td>\n",
              "    </tr>\n",
              "    <tr>\n",
              "      <th>Contract</th>\n",
              "      <td>0</td>\n",
              "    </tr>\n",
              "    <tr>\n",
              "      <th>PaperlessBilling</th>\n",
              "      <td>0</td>\n",
              "    </tr>\n",
              "    <tr>\n",
              "      <th>PaymentMethod</th>\n",
              "      <td>0</td>\n",
              "    </tr>\n",
              "    <tr>\n",
              "      <th>Charges.Monthly</th>\n",
              "      <td>0</td>\n",
              "    </tr>\n",
              "    <tr>\n",
              "      <th>Charges.Total</th>\n",
              "      <td>0</td>\n",
              "    </tr>\n",
              "  </tbody>\n",
              "</table>\n",
              "</div><br><label><b>dtype:</b> int64</label>"
            ]
          },
          "metadata": {},
          "execution_count": 77
        }
      ]
    },
    {
      "cell_type": "markdown",
      "source": [
        "✅ Explorar las columnas del dataset y verificar sus tipos de datos.\n",
        "✅ Consultar el diccionario para comprender mejor el significado de las variables.\n",
        "✅ Identificar las columnas más relevantes para el análisis de evasión.\n",
        "\n"
      ],
      "metadata": {
        "id": "wBc3tZ730b6O"
      }
    },
    {
      "cell_type": "markdown",
      "source": [
        " Exploración Inicial del DataFrame\n"
      ],
      "metadata": {
        "id": "y4ry9JcVMn9S"
      }
    },
    {
      "cell_type": "code",
      "source": [
        "# Mostrar las primeras filas\n",
        "print(df_flat.head())\n",
        "\n",
        "# Ver estructura del DataFrame (columnas y tipos de datos)\n",
        "print(\"\\nInformación del DataFrame:\")\n",
        "print(df_flat.info())\n",
        "\n",
        "# Estadísticas descriptivas de columnas numéricas\n",
        "print(\"\\nEstadísticas descriptivas:\")\n",
        "print(df_flat.describe())\n",
        "\n",
        "# Ver valores únicos en columnas categóricas (ej: Churn, gender)\n",
        "print(\"\\nValores únicos en 'Churn':\", df_flat['Churn'].unique())\n",
        "print(\"Valores únicos en 'Contract':\", df_flat['Contract'].unique())"
      ],
      "metadata": {
        "colab": {
          "base_uri": "https://localhost:8080/"
        },
        "id": "NnFgJx3ZJrLt",
        "outputId": "eab5230f-f29c-4b5a-ba59-926efb6af189"
      },
      "execution_count": 78,
      "outputs": [
        {
          "output_type": "stream",
          "name": "stdout",
          "text": [
            "   customerID Churn  gender  SeniorCitizen Partner Dependents  tenure  \\\n",
            "0  0002-ORFBO    No  Female              0     Yes        Yes       9   \n",
            "1  0003-MKNFE    No    Male              0      No         No       9   \n",
            "2  0004-TLHLJ   Yes    Male              0      No         No       4   \n",
            "3  0011-IGKFF   Yes    Male              1     Yes         No      13   \n",
            "4  0013-EXCHZ   Yes  Female              1     Yes         No       3   \n",
            "\n",
            "  PhoneService MultipleLines InternetService  ... OnlineBackup  \\\n",
            "0          Yes            No             DSL  ...          Yes   \n",
            "1          Yes           Yes             DSL  ...           No   \n",
            "2          Yes            No     Fiber optic  ...           No   \n",
            "3          Yes            No     Fiber optic  ...          Yes   \n",
            "4          Yes            No     Fiber optic  ...           No   \n",
            "\n",
            "  DeviceProtection TechSupport StreamingTV StreamingMovies        Contract  \\\n",
            "0               No         Yes         Yes              No        One year   \n",
            "1               No          No          No             Yes  Month-to-month   \n",
            "2              Yes          No          No              No  Month-to-month   \n",
            "3              Yes          No         Yes             Yes  Month-to-month   \n",
            "4               No         Yes         Yes              No  Month-to-month   \n",
            "\n",
            "  PaperlessBilling     PaymentMethod Charges.Monthly  Charges.Total  \n",
            "0              Yes      Mailed check            65.6          593.3  \n",
            "1               No      Mailed check            59.9          542.4  \n",
            "2              Yes  Electronic check            73.9         280.85  \n",
            "3              Yes  Electronic check            98.0        1237.85  \n",
            "4              Yes      Mailed check            83.9          267.4  \n",
            "\n",
            "[5 rows x 21 columns]\n",
            "\n",
            "Información del DataFrame:\n",
            "<class 'pandas.core.frame.DataFrame'>\n",
            "RangeIndex: 7267 entries, 0 to 7266\n",
            "Data columns (total 21 columns):\n",
            " #   Column            Non-Null Count  Dtype  \n",
            "---  ------            --------------  -----  \n",
            " 0   customerID        7267 non-null   object \n",
            " 1   Churn             7267 non-null   object \n",
            " 2   gender            7267 non-null   object \n",
            " 3   SeniorCitizen     7267 non-null   int64  \n",
            " 4   Partner           7267 non-null   object \n",
            " 5   Dependents        7267 non-null   object \n",
            " 6   tenure            7267 non-null   int64  \n",
            " 7   PhoneService      7267 non-null   object \n",
            " 8   MultipleLines     7267 non-null   object \n",
            " 9   InternetService   7267 non-null   object \n",
            " 10  OnlineSecurity    7267 non-null   object \n",
            " 11  OnlineBackup      7267 non-null   object \n",
            " 12  DeviceProtection  7267 non-null   object \n",
            " 13  TechSupport       7267 non-null   object \n",
            " 14  StreamingTV       7267 non-null   object \n",
            " 15  StreamingMovies   7267 non-null   object \n",
            " 16  Contract          7267 non-null   object \n",
            " 17  PaperlessBilling  7267 non-null   object \n",
            " 18  PaymentMethod     7267 non-null   object \n",
            " 19  Charges.Monthly   7267 non-null   float64\n",
            " 20  Charges.Total     7267 non-null   object \n",
            "dtypes: float64(1), int64(2), object(18)\n",
            "memory usage: 1.2+ MB\n",
            "None\n",
            "\n",
            "Estadísticas descriptivas:\n",
            "       SeniorCitizen       tenure  Charges.Monthly\n",
            "count    7267.000000  7267.000000      7267.000000\n",
            "mean        0.162653    32.346498        64.720098\n",
            "std         0.369074    24.571773        30.129572\n",
            "min         0.000000     0.000000        18.250000\n",
            "25%         0.000000     9.000000        35.425000\n",
            "50%         0.000000    29.000000        70.300000\n",
            "75%         0.000000    55.000000        89.875000\n",
            "max         1.000000    72.000000       118.750000\n",
            "\n",
            "Valores únicos en 'Churn': ['No' 'Yes' '']\n",
            "Valores únicos en 'Contract': ['One year' 'Month-to-month' 'Two year']\n"
          ]
        }
      ]
    },
    {
      "cell_type": "markdown",
      "source": [
        "Muestras las columnas existentes\n"
      ],
      "metadata": {
        "id": "0_xzTj4rUQat"
      }
    },
    {
      "cell_type": "code",
      "source": [
        "print(df_flat.columns.tolist())"
      ],
      "metadata": {
        "colab": {
          "base_uri": "https://localhost:8080/"
        },
        "id": "FfXHdWclU_VF",
        "outputId": "db3955f6-401d-48ba-ba24-ab6b91ea26ff"
      },
      "execution_count": 79,
      "outputs": [
        {
          "output_type": "stream",
          "name": "stdout",
          "text": [
            "['customerID', 'Churn', 'gender', 'SeniorCitizen', 'Partner', 'Dependents', 'tenure', 'PhoneService', 'MultipleLines', 'InternetService', 'OnlineSecurity', 'OnlineBackup', 'DeviceProtection', 'TechSupport', 'StreamingTV', 'StreamingMovies', 'Contract', 'PaperlessBilling', 'PaymentMethod', 'Charges.Monthly', 'Charges.Total']\n"
          ]
        }
      ]
    },
    {
      "cell_type": "markdown",
      "source": [
        "filtrado para insights"
      ],
      "metadata": {
        "id": "SebhhTuYWT6J"
      }
    },
    {
      "cell_type": "code",
      "source": [
        "# Analisis por tipo de contrato\n",
        "print(\"***Churn por tipo de contrato***\")\n",
        "print(df_flat.groupby('Contract')['Churn'].value_counts(normalize=True))\n",
        "\n",
        "# Analisis por cargo mensual (agrupado)\n",
        "print(\"***Churn por cargo mensual***\")\n",
        "df_flat['MonthlyGroup'] = pd.cut(df_flat['Charges.Monthly'], bins=[0, 50, 100, 150, 200])\n",
        "\n",
        "print(df_flat.groupby('MonthlyGroup')['Churn'].value_counts())"
      ],
      "metadata": {
        "colab": {
          "base_uri": "https://localhost:8080/"
        },
        "id": "XqkBLJnQUPM2",
        "outputId": "71e047f8-35d6-4cbb-c093-ce543c094e47"
      },
      "execution_count": 80,
      "outputs": [
        {
          "output_type": "stream",
          "name": "stdout",
          "text": [
            "***Churn por tipo de contrato***\n",
            "Contract        Churn\n",
            "Month-to-month  No       0.554307\n",
            "                Yes      0.413233\n",
            "                         0.032459\n",
            "One year        No       0.860434\n",
            "                Yes      0.109282\n",
            "                         0.030283\n",
            "Two year        No       0.944923\n",
            "                         0.027539\n",
            "                Yes      0.027539\n",
            "Name: proportion, dtype: float64\n",
            "***Churn por cargo mensual***\n",
            "MonthlyGroup  Churn\n",
            "(0, 50]       No       1938\n",
            "              Yes       361\n",
            "                         81\n",
            "(50, 100]     No       2587\n",
            "              Yes      1255\n",
            "                        108\n",
            "(100, 150]    No        649\n",
            "              Yes       253\n",
            "                         35\n",
            "(150, 200]                0\n",
            "              No          0\n",
            "              Yes         0\n",
            "Name: count, dtype: int64\n"
          ]
        },
        {
          "output_type": "stream",
          "name": "stderr",
          "text": [
            "/tmp/ipython-input-1609488752.py:9: FutureWarning: The default of observed=False is deprecated and will be changed to True in a future version of pandas. Pass observed=False to retain current behavior or observed=True to adopt the future default and silence this warning.\n",
            "  print(df_flat.groupby('MonthlyGroup')['Churn'].value_counts())\n"
          ]
        }
      ]
    },
    {
      "cell_type": "markdown",
      "source": [
        "Limpieza y Preparación de Datos"
      ],
      "metadata": {
        "id": "p06kEVJJUO0n"
      }
    },
    {
      "cell_type": "code",
      "source": [
        "# Convertir 'Charges.Total' a numérico (manejando errores)\n",
        "df_flat['Charges.Total'] = pd.to_numeric(df_flat['Charges.Total'], errors='coerce')\n",
        "\n",
        "# Rellenar nulos (ej. con 0 para nuevos clientes)\n",
        "df_flat['Charges.Total'] = df_flat['Charges.Total'].fillna(0)\n",
        "\n",
        "# Codificar variables categóricas (ej. Churn: Yes=1, No=0)\n",
        "df_flat['ChurnBinary'] = df_flat['Churn'].apply(lambda x: 1 if x == 'Yes' else 0)"
      ],
      "metadata": {
        "id": "zwLwjJrpW5Qv"
      },
      "execution_count": 81,
      "outputs": []
    },
    {
      "cell_type": "markdown",
      "source": [
        "Visualización Rápida con Seaborn"
      ],
      "metadata": {
        "id": "3Jv2XabIYSdO"
      }
    },
    {
      "cell_type": "code",
      "source": [
        "import seaborn as sns\n",
        "import matplotlib.pyplot as plt\n",
        "\n",
        "# Gráfico de barras: Churn por tipo de contrato\n",
        "sns.countplot(data=df_flat, x='Contract', hue='Churn')\n",
        "plt.title('Churn por Tipo de Contrato')\n",
        "plt.show()"
      ],
      "metadata": {
        "colab": {
          "base_uri": "https://localhost:8080/",
          "height": 472
        },
        "id": "15joCICJYTfl",
        "outputId": "03dbc8ba-9901-4a45-a520-c6db5920a746"
      },
      "execution_count": 82,
      "outputs": [
        {
          "output_type": "display_data",
          "data": {
            "text/plain": [
              "<Figure size 640x480 with 1 Axes>"
            ],
            "image/png": "[encoded data removed]"
          },
          "metadata": {}
        }
      ]
    },
    {
      "cell_type": "markdown",
      "source": [
        "Exploración Inicial del Dataset"
      ],
      "metadata": {
        "id": "Lg2x0whluFSU"
      }
    },
    {
      "cell_type": "code",
      "source": [
        "# Primeras filas (visualización rápida)\n",
        "print(\"--- Primeras 5 filas ---\")\n",
        "print(df_flat.head())\n",
        "\n",
        "# Estructura del dataset (filas, columnas, tipos de datos)\n",
        "print(\"\\n--- Información del DataFrame ---\")\n",
        "print(df_flat.info())\n",
        "\n",
        "# Estadísticas descriptivas de columnas numéricas\n",
        "print(\"\\n--- Estadísticas Descriptivas ---\")\n",
        "print(df_flat.describe())\n",
        "\n",
        "# Estadísticas de columnas categóricas\n",
        "print(\"\\n--- Variables Categóricas ---\")\n",
        "print(df_flat.describe(include=['object']))"
      ],
      "metadata": {
        "colab": {
          "base_uri": "https://localhost:8080/"
        },
        "id": "EvSdhX2wuF1N",
        "outputId": "cd071ea8-3b10-48d8-a8ba-9f1b88224a5d"
      },
      "execution_count": 83,
      "outputs": [
        {
          "output_type": "stream",
          "name": "stdout",
          "text": [
            "--- Primeras 5 filas ---\n",
            "   customerID Churn  gender  SeniorCitizen Partner Dependents  tenure  \\\n",
            "0  0002-ORFBO    No  Female              0     Yes        Yes       9   \n",
            "1  0003-MKNFE    No    Male              0      No         No       9   \n",
            "2  0004-TLHLJ   Yes    Male              0      No         No       4   \n",
            "3  0011-IGKFF   Yes    Male              1     Yes         No      13   \n",
            "4  0013-EXCHZ   Yes  Female              1     Yes         No       3   \n",
            "\n",
            "  PhoneService MultipleLines InternetService  ... TechSupport StreamingTV  \\\n",
            "0          Yes            No             DSL  ...         Yes         Yes   \n",
            "1          Yes           Yes             DSL  ...          No          No   \n",
            "2          Yes            No     Fiber optic  ...          No          No   \n",
            "3          Yes            No     Fiber optic  ...          No         Yes   \n",
            "4          Yes            No     Fiber optic  ...         Yes         Yes   \n",
            "\n",
            "  StreamingMovies        Contract PaperlessBilling     PaymentMethod  \\\n",
            "0              No        One year              Yes      Mailed check   \n",
            "1             Yes  Month-to-month               No      Mailed check   \n",
            "2              No  Month-to-month              Yes  Electronic check   \n",
            "3             Yes  Month-to-month              Yes  Electronic check   \n",
            "4              No  Month-to-month              Yes      Mailed check   \n",
            "\n",
            "  Charges.Monthly Charges.Total MonthlyGroup  ChurnBinary  \n",
            "0            65.6        593.30    (50, 100]            0  \n",
            "1            59.9        542.40    (50, 100]            0  \n",
            "2            73.9        280.85    (50, 100]            1  \n",
            "3            98.0       1237.85    (50, 100]            1  \n",
            "4            83.9        267.40    (50, 100]            1  \n",
            "\n",
            "[5 rows x 23 columns]\n",
            "\n",
            "--- Información del DataFrame ---\n",
            "<class 'pandas.core.frame.DataFrame'>\n",
            "RangeIndex: 7267 entries, 0 to 7266\n",
            "Data columns (total 23 columns):\n",
            " #   Column            Non-Null Count  Dtype   \n",
            "---  ------            --------------  -----   \n",
            " 0   customerID        7267 non-null   object  \n",
            " 1   Churn             7267 non-null   object  \n",
            " 2   gender            7267 non-null   object  \n",
            " 3   SeniorCitizen     7267 non-null   int64   \n",
            " 4   Partner           7267 non-null   object  \n",
            " 5   Dependents        7267 non-null   object  \n",
            " 6   tenure            7267 non-null   int64   \n",
            " 7   PhoneService      7267 non-null   object  \n",
            " 8   MultipleLines     7267 non-null   object  \n",
            " 9   InternetService   7267 non-null   object  \n",
            " 10  OnlineSecurity    7267 non-null   object  \n",
            " 11  OnlineBackup      7267 non-null   object  \n",
            " 12  DeviceProtection  7267 non-null   object  \n",
            " 13  TechSupport       7267 non-null   object  \n",
            " 14  StreamingTV       7267 non-null   object  \n",
            " 15  StreamingMovies   7267 non-null   object  \n",
            " 16  Contract          7267 non-null   object  \n",
            " 17  PaperlessBilling  7267 non-null   object  \n",
            " 18  PaymentMethod     7267 non-null   object  \n",
            " 19  Charges.Monthly   7267 non-null   float64 \n",
            " 20  Charges.Total     7267 non-null   float64 \n",
            " 21  MonthlyGroup      7267 non-null   category\n",
            " 22  ChurnBinary       7267 non-null   int64   \n",
            "dtypes: category(1), float64(2), int64(3), object(17)\n",
            "memory usage: 1.2+ MB\n",
            "None\n",
            "\n",
            "--- Estadísticas Descriptivas ---\n",
            "       SeniorCitizen       tenure  Charges.Monthly  Charges.Total  ChurnBinary\n",
            "count    7267.000000  7267.000000      7267.000000    7267.000000  7267.000000\n",
            "mean        0.162653    32.346498        64.720098    2277.182035     0.257190\n",
            "std         0.369074    24.571773        30.129572    2268.648587     0.437115\n",
            "min         0.000000     0.000000        18.250000       0.000000     0.000000\n",
            "25%         0.000000     9.000000        35.425000     396.200000     0.000000\n",
            "50%         0.000000    29.000000        70.300000    1389.200000     0.000000\n",
            "75%         0.000000    55.000000        89.875000    3778.525000     1.000000\n",
            "max         1.000000    72.000000       118.750000    8684.800000     1.000000\n",
            "\n",
            "--- Variables Categóricas ---\n",
            "        customerID Churn gender Partner Dependents PhoneService MultipleLines  \\\n",
            "count         7267  7267   7267    7267       7267         7267          7267   \n",
            "unique        7267     3      2       2          2            2             3   \n",
            "top     9995-HOTOH    No   Male      No         No          Yes            No   \n",
            "freq             1  5174   3675    3749       5086         6560          3495   \n",
            "\n",
            "       InternetService OnlineSecurity OnlineBackup DeviceProtection  \\\n",
            "count             7267           7267         7267             7267   \n",
            "unique               3              3            3                3   \n",
            "top        Fiber optic             No           No               No   \n",
            "freq              3198           3608         3182             3195   \n",
            "\n",
            "       TechSupport StreamingTV StreamingMovies        Contract  \\\n",
            "count         7267        7267            7267            7267   \n",
            "unique           3           3               3               3   \n",
            "top             No          No              No  Month-to-month   \n",
            "freq          3582        2896            2870            4005   \n",
            "\n",
            "       PaperlessBilling     PaymentMethod  \n",
            "count              7267              7267  \n",
            "unique                2                 4  \n",
            "top                 Yes  Electronic check  \n",
            "freq               4311              2445  \n"
          ]
        }
      ]
    },
    {
      "cell_type": "markdown",
      "source": [
        "Diccionario de Datos"
      ],
      "metadata": {
        "id": "etlao3JZ2s6L"
      }
    },
    {
      "cell_type": "code",
      "source": [
        "# Crear un diccionario de datos manual (basado en tu dataset)\n",
        "diccionario = {\n",
        "    'customerID': 'Identificador único del cliente',\n",
        "    'Churn': 'Target: \"Yes\" (canceló) / \"No\" (activo)',\n",
        "    'tenure': 'Meses de permanencia del cliente',\n",
        "    'Charges.Monthly': 'Monto facturado mensualmente',\n",
        "    'Charges.Total': 'Monto total facturado al cliente',\n",
        "    'Contract': 'Tipo de contrato (Month-to-month, One year, Two year)',\n",
        "    'InternetService': 'Tipo de servicio (DSL, Fiber optic, No)',\n",
        "    'PaymentMethod': 'Método de pago (Electronic check, Credit card, etc.)'\n",
        "}\n",
        "\n",
        "# Mostrar el diccionario\n",
        "print(\"\\n--- Diccionario de Datos ---\")\n",
        "for col, desc in diccionario.items():\n",
        "    print(f\"{col}: {desc}\")\n"
      ],
      "metadata": {
        "colab": {
          "base_uri": "https://localhost:8080/"
        },
        "id": "xSK2bbK52tff",
        "outputId": "b4a71a8f-8147-4534-c82f-abf90475dda5"
      },
      "execution_count": 84,
      "outputs": [
        {
          "output_type": "stream",
          "name": "stdout",
          "text": [
            "\n",
            "--- Diccionario de Datos ---\n",
            "customerID: Identificador único del cliente\n",
            "Churn: Target: \"Yes\" (canceló) / \"No\" (activo)\n",
            "tenure: Meses de permanencia del cliente\n",
            "Charges.Monthly: Monto facturado mensualmente\n",
            "Charges.Total: Monto total facturado al cliente\n",
            "Contract: Tipo de contrato (Month-to-month, One year, Two year)\n",
            "InternetService: Tipo de servicio (DSL, Fiber optic, No)\n",
            "PaymentMethod: Método de pago (Electronic check, Credit card, etc.)\n"
          ]
        }
      ]
    },
    {
      "cell_type": "markdown",
      "source": [
        "Datos Relevantes"
      ],
      "metadata": {
        "id": "jWRjkrhM3D2D"
      }
    },
    {
      "cell_type": "code",
      "source": [
        "# Variables clave para análisis de Churn (ajusta según tu dataset)\n",
        "variables_relevantes = [\n",
        "    'Churn',           # Target\n",
        "    'tenure',          # Antigüedad\n",
        "    'Contract',        # Tipo de contrato\n",
        "    'Charges.Monthly',  # Cargos mensuales\n",
        "    'InternetService', # Servicio de internet\n",
        "    'PaymentMethod'    # Método de pago\n",
        "]\n",
        "\n",
        "# Filtrar el DataFrame\n",
        "df_flat_relevante = df_flat[variables_relevantes]\n",
        "\n",
        "# Análisis rápido de distribución\n",
        "print(\"\\n--- Distribución de Variables Relevantes ---\")\n",
        "print(df_flat_relevante.groupby('Churn').describe(percentiles=[]))"
      ],
      "metadata": {
        "colab": {
          "base_uri": "https://localhost:8080/"
        },
        "id": "uug7Q8yI3M2w",
        "outputId": "6d8f0cf1-d6f3-4fcc-f4df-de4abaa069eb"
      },
      "execution_count": 85,
      "outputs": [
        {
          "output_type": "stream",
          "name": "stdout",
          "text": [
            "\n",
            "--- Distribución de Variables Relevantes ---\n",
            "       tenure                                        Charges.Monthly  \\\n",
            "        count       mean        std  min   50%   max           count   \n",
            "Churn                                                                  \n",
            "        224.0  31.571429  24.998552  1.0  29.0  72.0           224.0   \n",
            "No     5174.0  37.569965  24.113777  0.0  38.0  72.0          5174.0   \n",
            "Yes    1869.0  17.979133  19.531123  1.0  10.0  72.0          1869.0   \n",
            "\n",
            "                                                    \n",
            "            mean        std    min     50%     max  \n",
            "Churn                                               \n",
            "       63.412277  31.388712  18.75  69.100  115.55  \n",
            "No     61.265124  31.092648  18.25  64.425  118.75  \n",
            "Yes    74.441332  24.666053  18.85  79.650  118.35  \n"
          ]
        }
      ]
    },
    {
      "cell_type": "markdown",
      "source": [
        "Comprobación de incoherencias en los datos- Depuracion de Datos"
      ],
      "metadata": {
        "id": "9iKjjkvY64Et"
      }
    },
    {
      "cell_type": "code",
      "source": [
        "# 1. Valores nulos\n",
        "print(\"\\n\" + \"=\"*50)\n",
        "print(\"1. VALORES NULOS\")\n",
        "print(\"=\"*50)\n",
        "print(\"--- Columnas con valores nulos ---\")\n",
        "null_counts = df_flat.isnull().sum()\n",
        "print(null_counts[null_counts > 0])\n",
        "\n",
        "# 2. Valores duplicados\n",
        "print(\"\\n\" + \"=\"*50)\n",
        "print(\"2. VALORES DUPLICADOS\")\n",
        "print(\"=\"*50)\n",
        "print(f\"Clientes duplicados (total): {df_flat.duplicated().sum()}\")\n",
        "print(f\"IDs de cliente duplicados: {df_flat['customerID'].duplicated().sum()}\")\n",
        "\n",
        "# 3. Consistencia de categorías\n",
        "print(\"\\n\" + \"=\"*50)\n",
        "print(\"3. CONSISTENCIA DE CATEGORÍAS\")\n",
        "print(\"=\"*50)\n",
        "categorical_cols = ['Contract', 'InternetService', 'PaymentMethod']\n",
        "expected_values = {\n",
        "    'Contract': ['Month-to-month', 'One year', 'Two year'],\n",
        "    'InternetService': ['DSL', 'Fiber optic', 'No'],\n",
        "    'PaymentMethod': ['Electronic check', 'Mailed check', 'Bank transfer', 'Credit card']\n",
        "}\n",
        "\n",
        "for col in categorical_cols:\n",
        "    print(f\"\\n--- {col} ---\")\n",
        "    print(\"Valores únicos:\", df_flat[col].unique())\n",
        "    unexpected = set(df_flat[col].unique()) - set(expected_values.get(col, []))\n",
        "    if unexpected:\n",
        "        print(f\"¡Valores inesperados!: {unexpected}\")\n",
        "\n",
        "# 4. Rangos numéricos\n",
        "print(\"\\n\" + \"=\"*50)\n",
        "print(\"4. RANGOS NUMÉRICOS\")\n",
        "print(\"=\"*50)\n",
        "numeric_cols = ['tenure', 'Charges.Monthly', 'Charges.Total']\n",
        "print(df_flat[numeric_cols].describe())\n",
        "\n",
        "# Verificación de valores negativos\n",
        "print(\"\\n--- Valores negativos ---\")\n",
        "for col in numeric_cols:\n",
        "    neg_values = df_flat[df_flat[col] < 0]\n",
        "    print(f\"{col}: {len(neg_values)} valores negativos\")\n",
        "\n",
        "# 5. Inconsistencias lógicas\n",
        "print(\"\\n\" + \"=\"*50)\n",
        "print(\"5. INCONSISTENCIAS LÓGICAS\")\n",
        "print(\"=\"*50)\n",
        "# Clientes sin Internet pero con servicios online\n",
        "print(\"\\n--- Clientes sin Internet pero con servicios online ---\")\n",
        "inconsistencia1 = df_flat[(df_flat['InternetService'] == 'No') &\n",
        "                   ((df_flat['OnlineSecurity'] != 'No') |\n",
        "                    (df_flat['OnlineBackup'] != 'No') |\n",
        "                    (df_flat['DeviceProtection'] != 'No') |\n",
        "                    (df_flat['TechSupport'] != 'No') |\n",
        "                    (df_flat['StreamingTV'] != 'No') |\n",
        "                    (df_flat['StreamingMovies'] != 'No'))]\n",
        "print(f\"Casos encontrados: {len(inconsistencia1)}\")\n",
        "if len(inconsistencia1) > 0:\n",
        "    print(inconsistencia1[['customerID', 'InternetService', 'OnlineSecurity']].head())\n",
        "\n",
        "# Clientes con tenure=0 pero cargos positivos\n",
        "print(\"\\n--- Clientes con tenure=0 pero cargos positivos ---\")\n",
        "inconsistencia2 = df_flat[(df_flat['tenure'] == 0) &\n",
        "                   ((df_flat['Charges.Monthly'] > 0) |\n",
        "                    (df_flat['Charges.Total'] > 0))]\n",
        "print(f\"Casos encontrados: {len(inconsistencia2)}\")\n",
        "if len(inconsistencia2) > 0:\n",
        "    print(inconsistencia2[['customerID', 'tenure', 'Charges.Monthly', 'Charges.Total']].head())\n",
        "\n",
        "# 6. Verificación final de limpieza\n",
        "print(\"\\n\" + \"=\"*50)\n",
        "print(\"6. VERIFICACIÓN FINAL\")\n",
        "print(\"=\"*50)\n",
        "print(\"--- Resumen de limpieza ---\")\n",
        "print(f\"Nulos en Charges.Total: {df_flat['Charges.Total'].isnull().sum()}\")\n",
        "print(f\"Churn codificado:\\n{df_flat['ChurnBinary'].value_counts()}\")"
      ],
      "metadata": {
        "colab": {
          "base_uri": "https://localhost:8080/"
        },
        "id": "4BQaBrI664s2",
        "outputId": "e0eb6216-8d08-42c1-dc7c-0226351837d7"
      },
      "execution_count": 86,
      "outputs": [
        {
          "output_type": "stream",
          "name": "stdout",
          "text": [
            "\n",
            "==================================================\n",
            "1. VALORES NULOS\n",
            "==================================================\n",
            "--- Columnas con valores nulos ---\n",
            "Series([], dtype: int64)\n",
            "\n",
            "==================================================\n",
            "2. VALORES DUPLICADOS\n",
            "==================================================\n",
            "Clientes duplicados (total): 0\n",
            "IDs de cliente duplicados: 0\n",
            "\n",
            "==================================================\n",
            "3. CONSISTENCIA DE CATEGORÍAS\n",
            "==================================================\n",
            "\n",
            "--- Contract ---\n",
            "Valores únicos: ['One year' 'Month-to-month' 'Two year']\n",
            "\n",
            "--- InternetService ---\n",
            "Valores únicos: ['DSL' 'Fiber optic' 'No']\n",
            "\n",
            "--- PaymentMethod ---\n",
            "Valores únicos: ['Mailed check' 'Electronic check' 'Credit card (automatic)'\n",
            " 'Bank transfer (automatic)']\n",
            "¡Valores inesperados!: {'Credit card (automatic)', 'Bank transfer (automatic)'}\n",
            "\n",
            "==================================================\n",
            "4. RANGOS NUMÉRICOS\n",
            "==================================================\n",
            "            tenure  Charges.Monthly  Charges.Total\n",
            "count  7267.000000      7267.000000    7267.000000\n",
            "mean     32.346498        64.720098    2277.182035\n",
            "std      24.571773        30.129572    2268.648587\n",
            "min       0.000000        18.250000       0.000000\n",
            "25%       9.000000        35.425000     396.200000\n",
            "50%      29.000000        70.300000    1389.200000\n",
            "75%      55.000000        89.875000    3778.525000\n",
            "max      72.000000       118.750000    8684.800000\n",
            "\n",
            "--- Valores negativos ---\n",
            "tenure: 0 valores negativos\n",
            "Charges.Monthly: 0 valores negativos\n",
            "Charges.Total: 0 valores negativos\n",
            "\n",
            "==================================================\n",
            "5. INCONSISTENCIAS LÓGICAS\n",
            "==================================================\n",
            "\n",
            "--- Clientes sin Internet pero con servicios online ---\n",
            "Casos encontrados: 1581\n",
            "    customerID InternetService       OnlineSecurity\n",
            "20  0023-UYUPN              No  No internet service\n",
            "23  0030-FNXPP              No  No internet service\n",
            "24  0031-PVLZI              No  No internet service\n",
            "27  0040-HALCW              No  No internet service\n",
            "28  0042-JVWOJ              No  No internet service\n",
            "\n",
            "--- Clientes con tenure=0 pero cargos positivos ---\n",
            "Casos encontrados: 11\n",
            "      customerID  tenure  Charges.Monthly  Charges.Total\n",
            "975   1371-DWPAZ       0            56.05            0.0\n",
            "1775  2520-SGTTA       0            20.00            0.0\n",
            "1955  2775-SEFEE       0            61.90            0.0\n",
            "2075  2923-ARZLG       0            19.70            0.0\n",
            "2232  3115-CZMZD       0            20.25            0.0\n",
            "\n",
            "==================================================\n",
            "6. VERIFICACIÓN FINAL\n",
            "==================================================\n",
            "--- Resumen de limpieza ---\n",
            "Nulos en Charges.Total: 0\n",
            "Churn codificado:\n",
            "ChurnBinary\n",
            "0    5398\n",
            "1    1869\n",
            "Name: count, dtype: int64\n"
          ]
        }
      ]
    },
    {
      "cell_type": "markdown",
      "source": [
        "Manejo de Inconsistencias"
      ],
      "metadata": {
        "id": "oe6gZX9774HO"
      }
    },
    {
      "cell_type": "code",
      "source": [
        "## ==================================================\n",
        "## TRATAMIENTO DE INCONSISTENCIAS\n",
        "## ==================================================\n",
        "\n",
        "# 1. Inconsistencias en PaymentMethod (valores inesperados)\n",
        "print(\"\\n1. Normalizando PaymentMethod...\")\n",
        "# Los valores \"automáticos\" son válidos pero inconsistentes en formato, los normalizamos:\n",
        "df_flat['PaymentMethod'] = df_flat['PaymentMethod'].replace({\n",
        "    'Credit card (automatic)': 'Credit card',\n",
        "    'Bank transfer (automatic)': 'Bank transfer'\n",
        "})\n",
        "print(\"Valores únicos actualizados en PaymentMethod:\", df_flat['PaymentMethod'].unique())\n",
        "\n",
        "# 2. Clientes sin Internet pero con servicios online\n",
        "print(\"\\n2. Corrigiendo servicios online para clientes sin Internet...\")\n",
        "# Lista de columnas de servicios online\n",
        "online_services = ['OnlineSecurity', 'OnlineBackup', 'DeviceProtection',\n",
        "                   'TechSupport', 'StreamingTV', 'StreamingMovies']\n",
        "\n",
        "# Para clientes sin Internet, todos los servicios online deben ser \"No internet service\"\n",
        "for service in online_services:\n",
        "    df_flat.loc[df_flat['InternetService'] == 'No', service] = 'No internet service'\n",
        "\n",
        "# Verificación\n",
        "inconsistencia_after = df_flat[(df_flat['InternetService'] == 'No') &\n",
        "                         (df_flat['OnlineSecurity'] != 'No internet service')]\n",
        "print(f\"Casos restantes después de corrección: {len(inconsistencia_after)}\")\n",
        "\n",
        "# 3. Clientes con tenure=0 pero cargos positivos\n",
        "print(\"\\n3. Ajustando cargos para clientes con tenure=0...\")\n",
        "# Estos casos podrían ser errores de registro. Dos enfoques posibles:\n",
        "\n",
        "# Opción A: Poner cargos en 0 (asumiendo que son clientes nuevos)\n",
        "df_flat.loc[(df_flat['tenure'] == 0) & ((df_flat['Charges.Monthly'] > 0) |\n",
        "                              (df_flat['Charges.Total'] > 0)),\n",
        "      ['Charges.Monthly', 'Charges.Total']] = 0.0\n",
        "\n",
        "# Opción B: Ajustar tenure a 1 mes (si los cargos son válidos)\n",
        "# df_flat.loc[(df_flat['tenure'] == 0) & (df_flat['Charges.Monthly'] > 0), 'tenure'] = 1\n",
        "\n",
        "# Verificación\n",
        "inconsistencia_after = df_flat[(df_flat['tenure'] == 0) &\n",
        "                         ((df_flat['Charges.Monthly'] > 0) |\n",
        "                          (df_flat['Charges.Total'] > 0))]\n",
        "print(f\"Casos restantes después de corrección: {len(inconsistencia_after)}\")\n",
        "\n",
        "# 4. Normalización adicional de categorías\n",
        "print(\"\\n4. Normalizando categorías...\")\n",
        "# Asegurar consistencia en mayúsculas/espacios\n",
        "categorical_cols = ['Contract', 'InternetService', 'PaymentMethod']\n",
        "for col in categorical_cols:\n",
        "    df_flat[col] = df_flat[col].str.strip()  # Eliminar espacios en blanco\n",
        "    df_flat[col] = df_flat[col].str.title()  # Formato título (primera letra mayúscula)\n",
        "\n",
        "# 5. Creación de columna de inconsistencias resueltas\n",
        "print(\"\\n5. Registrando cambios realizados...\")\n",
        "# Creamos una columna para rastrear filas modificadas\n",
        "df_flat['Modified'] = 'No'\n",
        "df_flat.loc[(df_flat['InternetService'] == 'No') &\n",
        "       (df_flat['OnlineSecurity'] == 'No internet service'), 'Modified'] = 'OnlineServices'\n",
        "df_flat.loc[(df_flat['tenure'] == 0) &\n",
        "       (df_flat['Charges.Monthly'] == 0) &\n",
        "       (df_flat['Charges.Total'] == 0), 'Modified'] = 'ZeroTenure'\n",
        "\n",
        "# ==================================================\n",
        "# VERIFICACIÓN POSTERIOR AL TRATAMIENTO\n",
        "# ==================================================\n",
        "print(\"\\n\" + \"=\"*50)\n",
        "print(\"RESULTADOS DESPUÉS DEL TRATAMIENTO\")\n",
        "print(\"=\"*50)\n",
        "\n",
        "# Verificación final\n",
        "print(\"\\n--- Valores únicos en PaymentMethod ---\")\n",
        "print(df_flat['PaymentMethod'].unique())\n",
        "\n",
        "print(\"\\n--- Clientes sin Internet con servicios online ---\")\n",
        "print(len(df_flat[(df_flat['InternetService'] == 'No') &\n",
        "            (df_flat['OnlineSecurity'] != 'No internet service')]))\n",
        "\n",
        "print(\"\\n--- Clientes con tenure=0 y cargos positivos ---\")\n",
        "print(len(df_flat[(df_flat['tenure'] == 0) &\n",
        "            ((df_flat['Charges.Monthly'] > 0) |\n",
        "             (df_flat['Charges.Total'] > 0))]))\n",
        "\n",
        "print(\"\\n--- Resumen de modificaciones realizadas ---\")\n",
        "print(df_flat['Modified'].value_counts())\n",
        "\n",
        "# Guardar dataset corregido\n",
        "df_flat.to_csv('telecom_data_corregido.csv', index=False)\n",
        "print(\"\\nDataset corregido guardado como 'telecom_data_corregido.csv'\")"
      ],
      "metadata": {
        "id": "5SuCr7KZ75BN",
        "colab": {
          "base_uri": "https://localhost:8080/"
        },
        "outputId": "7b590639-74be-4b2a-a80b-52b0dd1ee07d"
      },
      "execution_count": 87,
      "outputs": [
        {
          "output_type": "stream",
          "name": "stdout",
          "text": [
            "\n",
            "1. Normalizando PaymentMethod...\n",
            "Valores únicos actualizados en PaymentMethod: ['Mailed check' 'Electronic check' 'Credit card' 'Bank transfer']\n",
            "\n",
            "2. Corrigiendo servicios online para clientes sin Internet...\n",
            "Casos restantes después de corrección: 0\n",
            "\n",
            "3. Ajustando cargos para clientes con tenure=0...\n",
            "Casos restantes después de corrección: 0\n",
            "\n",
            "4. Normalizando categorías...\n",
            "\n",
            "5. Registrando cambios realizados...\n",
            "\n",
            "==================================================\n",
            "RESULTADOS DESPUÉS DEL TRATAMIENTO\n",
            "==================================================\n",
            "\n",
            "--- Valores únicos en PaymentMethod ---\n",
            "['Mailed Check' 'Electronic Check' 'Credit Card' 'Bank Transfer']\n",
            "\n",
            "--- Clientes sin Internet con servicios online ---\n",
            "0\n",
            "\n",
            "--- Clientes con tenure=0 y cargos positivos ---\n",
            "0\n",
            "\n",
            "--- Resumen de modificaciones realizadas ---\n",
            "Modified\n",
            "No                5681\n",
            "OnlineServices    1575\n",
            "ZeroTenure          11\n",
            "Name: count, dtype: int64\n",
            "\n",
            "Dataset corregido guardado como 'telecom_data_corregido.csv'\n"
          ]
        }
      ]
    },
    {
      "cell_type": "code",
      "source": [
        "print(\"Nombres de variables definidas:\", [var for var in globals() if 'df' in var])"
      ],
      "metadata": {
        "colab": {
          "base_uri": "https://localhost:8080/"
        },
        "id": "vtKo6pb-7644",
        "outputId": "5aaadb83-0197-484f-cf47-0a19a41861fc"
      },
      "execution_count": 88,
      "outputs": [
        {
          "output_type": "stream",
          "name": "stdout",
          "text": [
            "Nombres de variables definidas: ['df_flat_raw', 'df_flat_customer', 'df_flat_phone', 'df_flat_internet', 'df_flat_account', 'df_flat', 'df_flat_relevante']\n"
          ]
        }
      ]
    },
    {
      "cell_type": "markdown",
      "source": [
        "Columna de cuentas diarias"
      ],
      "metadata": {
        "id": "oO5s-ksASX4o"
      }
    },
    {
      "cell_type": "code",
      "source": [
        "import numpy as np\n",
        "\n",
        "# Calculamos el valor diario (cargo mensual / 30 días)\n",
        "df_flat['Cuentas_Diarias'] = round(df_flat['Charges.Monthly'] / 30, 2)\n",
        "\n",
        "# Para clientes con tenure=0, podríamos considerar el primer día de facturación completo\n",
        "# Opcional: df.loc[df['tenure'] == 0, 'Cuentas_Diarias'] = df['Charges.Monthly']\n",
        "\n",
        "# Verificación de resultados\n",
        "print(\"\\n--- Muestra de Cuentas Diarias ---\")\n",
        "print(df_flat[['customerID', 'Charges.Monthly', 'Cuentas_Diarias', 'tenure']].head(10))\n",
        "\n",
        "\n",
        "# Estadísticas descriptivas\n",
        "print(\"\\n--- Estadísticas de Cuentas Diarias ---\")\n",
        "print(f\"Media: ${round(df_flat['Cuentas_Diarias'].mean(), 2)} por día\")\n",
        "print(f\"Mínimo: ${round(df_flat['Cuentas_Diarias'].min(), 2)}\")\n",
        "print(f\"Máximo: ${round(df_flat['Cuentas_Diarias'].max(), 2)}\")\n",
        "print(f\"Mediana: ${round(df_flat['Cuentas_Diarias'].median(), 2)}\")\n",
        "\n",
        "# Visualización rápida\n",
        "import matplotlib.pyplot as plt\n",
        "import seaborn as sns\n",
        "\n",
        "plt.figure(figsize=(10, 6))\n",
        "sns.histplot(data=df_flat, x='Cuentas_Diarias', bins=30, kde=True)\n",
        "plt.title('Distribución de Cuentas Diarias')\n",
        "plt.xlabel('Cargo Diario ($)')\n",
        "plt.ylabel('Número de Clientes')\n",
        "plt.show()"
      ],
      "metadata": {
        "id": "F9bfCxhRT54Z",
        "colab": {
          "base_uri": "https://localhost:8080/",
          "height": 894
        },
        "outputId": "89b342c0-15e7-4521-c6f4-c6bb163bfe9f"
      },
      "execution_count": 89,
      "outputs": [
        {
          "output_type": "stream",
          "name": "stdout",
          "text": [
            "\n",
            "--- Muestra de Cuentas Diarias ---\n",
            "   customerID  Charges.Monthly  Cuentas_Diarias  tenure\n",
            "0  0002-ORFBO            65.60             2.19       9\n",
            "1  0003-MKNFE            59.90             2.00       9\n",
            "2  0004-TLHLJ            73.90             2.46       4\n",
            "3  0011-IGKFF            98.00             3.27      13\n",
            "4  0013-EXCHZ            83.90             2.80       3\n",
            "5  0013-MHZWF            69.40             2.31       9\n",
            "6  0013-SMEOE           109.70             3.66      71\n",
            "7  0014-BMAQU            84.65             2.82      63\n",
            "8  0015-UOCOJ            48.20             1.61       7\n",
            "9  0016-QLJIS            90.45             3.02      65\n",
            "\n",
            "--- Estadísticas de Cuentas Diarias ---\n",
            "Media: $2.16 por día\n",
            "Mínimo: $0.0\n",
            "Máximo: $3.96\n",
            "Mediana: $2.34\n"
          ]
        },
        {
          "output_type": "display_data",
          "data": {
            "text/plain": [
              "<Figure size 1000x600 with 1 Axes>"
            ],
            "image/png": "[encoded data removed]"
          },
          "metadata": {}
        }
      ]
    },
    {
      "cell_type": "markdown",
      "source": [
        "Estandarización y transformación de datos (opcional)"
      ],
      "metadata": {
        "id": "zfYP251XHwfZ"
      }
    },
    {
      "cell_type": "markdown",
      "source": [
        "Proceso opcional pero recomendado para:\n",
        "\n",
        "Convertir valores categóricos (ej: \"Sí\"/\"No\" → 1/0) en formatos numéricos, facilitando modelos analíticos.\n",
        "\n",
        "Renombrar columnas o traducir términos técnicos para mejorar comprensión y comunicación con stakeholders.\n",
        "\n",
        "Asegurar consistencia en los datos, optimizando su interpretación y uso en etapas posteriores.\n",
        "\n",
        "Beneficios clave:\n",
        "✔ Compatibilidad con herramientas matemáticas.\n",
        "✔ Información más accesible para equipos no técnicos.\n",
        "✔ Reducción de ambigüedades en los resultados.\n"
      ],
      "metadata": {
        "id": "OvE801wBH0Oo"
      }
    },
    {
      "cell_type": "code",
      "source": [
        "# 1. Verificar las columnas disponibles\n",
        "print(\"\\n1. Verificar las columnas disponibles\")\n",
        "print(\"Columnas disponibles en el DataFrame:\")\n",
        "print(df_flat.columns.tolist())\n",
        "\n",
        "# 2. Buscar variantes del nombre 'Churn'\n",
        "print(\"\\n2. Buscar variantes del nombre 'Churn'\")\n",
        "possible_names = ['churn', 'CHURN', 'Status', 'Customer_Status', 'Churn_Status']\n",
        "for name in possible_names:\n",
        "    if name in df_flat.columns:\n",
        "        print(f\"\\nColumna encontrada: {name}\")\n",
        "        # Renombrar a 'Churn' para estandarizar\n",
        "        df_flat = df_flat.rename(columns={name: 'Churn'})\n",
        "        break\n",
        "else:\n",
        "    print(\"\\nNo se encontró ninguna columna equivalente a 'Churn' - se verificará en datos anidados\")\n",
        "\n",
        "# 3. Si no se encuentra, verificar en datos originales\n",
        "print(\"\\n3. Si no se encuentra, verificar en datos originales\")\n",
        "if 'Churn' not in df_flat.columns:\n",
        "    print(\"\\nRevisando estructura original...\")\n",
        "    if 'customer' in df_flat.columns and isinstance(df_flat['customer'].iloc[0], dict):\n",
        "        print(\"Extrayendo 'Churn' de datos anidados...\")\n",
        "        df_flat['Churn'] = df_flat['customer'].apply(lambda x: x.get('Churn', None))\n",
        "\n",
        "# 4. Limpieza y normalización de la columna 'Churn'\n",
        "print(\"\\n4. Limpieza y normalización de 'Churn'\")\n",
        "if 'Churn' in df_flat.columns:\n",
        "    # Limpieza de valores\n",
        "    df_flat['Churn'] = df_flat['Churn'].astype(str).str.strip().str.title()\n",
        "\n",
        "    # Reemplazar valores inconsistentes\n",
        "    df_flat['Churn'] = df_flat['Churn'].replace({\n",
        "        'Nan': None,\n",
        "        'N/a': None,\n",
        "        '': None\n",
        "    })\n",
        "\n",
        "    # Filtrar solo valores Yes/No válidos\n",
        "    valid_churn = df_flat['Churn'].isin(['Yes', 'No'])\n",
        "    df_flat = df_flat[valid_churn].copy()\n",
        "\n",
        "    print(\"\\nValores únicos en 'Churn' después de limpieza:\")\n",
        "    print(df_flat['Churn'].value_counts(dropna=False))\n",
        "\n",
        "    # Binarización robusta\n",
        "    df_flat['Churn_Binario'] = df_flat['Churn'].map({'Yes': 1, 'No': 0}).astype('int8')\n",
        "\n",
        "    print(\"\\nBinarización completada (valores enteros):\")\n",
        "    print(df_flat[['Churn', 'Churn_Binario']].head())\n",
        "\n",
        "    print(\"\\nResumen final:\")\n",
        "    print(f\"Total registros válidos: {len(df_flat)}\")\n",
        "    print(f\"Distribución de Churn: {df_flat['Churn_Binario'].value_counts(normalize=True)}\")\n",
        "else:\n",
        "    print(\"\\nError crítico: No se pudo encontrar o crear la columna 'Churn'\")\n",
        "    print(\"Revisa la estructura de tus datos originales\")\n",
        "\n",
        "# Opcional: Guardar el dataframe limpio\n",
        "df_flat.to_csv('datos_telecom_limpios.csv', index=False)\n",
        "print(\"\\nDataFrame limpio guardado como 'datos_telecom_limpios.csv'\")"
      ],
      "metadata": {
        "colab": {
          "base_uri": "https://localhost:8080/"
        },
        "id": "OEbXK2xdHyfV",
        "outputId": "9499cee6-f5ea-48e4-cca6-68225b41cfec"
      },
      "execution_count": 90,
      "outputs": [
        {
          "output_type": "stream",
          "name": "stdout",
          "text": [
            "\n",
            "1. Verificar las columnas disponibles\n",
            "Columnas disponibles en el DataFrame:\n",
            "['customerID', 'Churn', 'gender', 'SeniorCitizen', 'Partner', 'Dependents', 'tenure', 'PhoneService', 'MultipleLines', 'InternetService', 'OnlineSecurity', 'OnlineBackup', 'DeviceProtection', 'TechSupport', 'StreamingTV', 'StreamingMovies', 'Contract', 'PaperlessBilling', 'PaymentMethod', 'Charges.Monthly', 'Charges.Total', 'MonthlyGroup', 'ChurnBinary', 'Modified', 'Cuentas_Diarias']\n",
            "\n",
            "2. Buscar variantes del nombre 'Churn'\n",
            "\n",
            "No se encontró ninguna columna equivalente a 'Churn' - se verificará en datos anidados\n",
            "\n",
            "3. Si no se encuentra, verificar en datos originales\n",
            "\n",
            "4. Limpieza y normalización de 'Churn'\n",
            "\n",
            "Valores únicos en 'Churn' después de limpieza:\n",
            "Churn\n",
            "No     5174\n",
            "Yes    1869\n",
            "Name: count, dtype: int64\n",
            "\n",
            "Binarización completada (valores enteros):\n",
            "  Churn  Churn_Binario\n",
            "0    No              0\n",
            "1    No              0\n",
            "2   Yes              1\n",
            "3   Yes              1\n",
            "4   Yes              1\n",
            "\n",
            "Resumen final:\n",
            "Total registros válidos: 7043\n",
            "Distribución de Churn: Churn_Binario\n",
            "0    0.73463\n",
            "1    0.26537\n",
            "Name: proportion, dtype: float64\n",
            "\n",
            "DataFrame limpio guardado como 'datos_telecom_limpios.csv'\n"
          ]
        }
      ]
    }
  ]
}